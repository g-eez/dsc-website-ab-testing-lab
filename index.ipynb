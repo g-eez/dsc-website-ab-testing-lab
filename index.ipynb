{
 "cells": [
  {
   "attachments": {},
   "cell_type": "markdown",
   "metadata": {},
   "source": [
    "# Website A/B Testing - Lab\n",
    "\n",
    "## Introduction\n",
    "\n",
    "In this lab, you'll get another chance to practice your skills at conducting a full A/B test analysis. It will also be a chance to practice your data exploration and processing skills! The scenario you'll be investigating is data collected from the homepage of a music app page for audacity.\n",
    "\n",
    "## Objectives\n",
    "\n",
    "You will be able to:\n",
    "* Analyze the data from a website A/B test to draw relevant conclusions\n",
    "* Explore and analyze web action data"
   ]
  },
  {
   "attachments": {},
   "cell_type": "markdown",
   "metadata": {},
   "source": [
    "## Exploratory Analysis\n",
    "\n",
    "Start by loading in the dataset stored in the file 'homepage_actions.csv'. Then conduct an exploratory analysis to get familiar with the data."
   ]
  },
  {
   "attachments": {},
   "cell_type": "markdown",
   "metadata": {},
   "source": [
    "> Hints:\n",
    "    * Start investigating the id column:\n",
    "        * How many viewers also clicked?\n",
    "        * Are there any anomalies with the data; did anyone click who didn't view?\n",
    "        * Is there any overlap between the control and experiment groups? \n",
    "            * If so, how do you plan to account for this in your experimental design?"
   ]
  },
  {
   "cell_type": "code",
   "execution_count": 13,
   "metadata": {},
   "outputs": [],
   "source": [
    "#Your code here\n",
    "import pandas as pd\n",
    "import numpy as np\n",
    "from statsmodels.stats.proportion import proportions_ztest\n",
    "from scipy.stats import norm"
   ]
  },
  {
   "cell_type": "code",
   "execution_count": 3,
   "metadata": {},
   "outputs": [],
   "source": [
    "# Load the dataset\n",
    "df = pd.read_csv('homepage_actions.csv')"
   ]
  },
  {
   "cell_type": "code",
   "execution_count": 6,
   "metadata": {},
   "outputs": [
    {
     "name": "stdout",
     "output_type": "stream",
     "text": [
      "                    timestamp      id       group action\n",
      "0  2016-09-24 17:42:27.839496  804196  experiment   view\n",
      "1  2016-09-24 19:19:03.542569  434745  experiment   view\n",
      "2  2016-09-24 19:36:00.944135  507599  experiment   view\n",
      "3  2016-09-24 19:59:02.646620  671993     control   view\n",
      "4  2016-09-24 20:26:14.466886  536734  experiment   view\n",
      "view     6328\n",
      "click    1860\n",
      "Name: action, dtype: int64\n",
      "control       4264\n",
      "experiment    3924\n",
      "Name: group, dtype: int64\n",
      "Number of viewers: 6328\n",
      "Number of clickers: 1860\n",
      "Number of viewers who also clicked: 1860\n",
      "Number of users in both groups: 0\n"
     ]
    }
   ],
   "source": [
    "#Your code here\n",
    "# Preview the data\n",
    "print(df.head())\n",
    "\n",
    "# Check unique actions and groups\n",
    "print(df['action'].value_counts())\n",
    "print(df['group'].value_counts())\n",
    "\n",
    "# How many unique viewers and clickers?\n",
    "viewers = set(df[df['action'] == 'view']['id'])\n",
    "clickers = set(df[df['action'] == 'click']['id'])\n",
    "print(f\"Number of viewers: {len(viewers)}\")\n",
    "print(f\"Number of clickers: {len(clickers)}\")\n",
    "\n",
    "# How many viewers also clicked?\n",
    "viewed_and_clicked = viewers & clickers\n",
    "print(f\"Number of viewers who also clicked: {len(viewed_and_clicked)}\")\n",
    "\n",
    "# Check for overlap between control and experiment groups\n",
    "user_groups = df.groupby('id')['group'].nunique()\n",
    "overlap = user_groups[user_groups > 1]\n",
    "print(f\"Number of users in both groups: {len(overlap)}\")\n"
   ]
  },
  {
   "attachments": {},
   "cell_type": "markdown",
   "metadata": {},
   "source": [
    "## Conduct a Statistical Test\n",
    "\n",
    "Conduct a statistical test to determine whether the experimental homepage was more effective than that of the control group."
   ]
  },
  {
   "cell_type": "code",
   "execution_count": null,
   "metadata": {},
   "outputs": [
    {
     "name": "stdout",
     "output_type": "stream",
     "text": [
      "z-statistic: -2.6186\n",
      "p-value: 0.0088\n",
      "Statistically significant difference between groups.\n"
     ]
    }
   ],
   "source": [
    "#Your code here\n",
    "# Remove users in both groups (if any)\n",
    "user_groups = df.groupby('id')['group'].nunique()\n",
    "overlap_ids = user_groups[user_groups > 1].index\n",
    "df = df[~df['id'].isin(overlap_ids)]\n",
    "\n",
    "# Pivot to get views and clicks per group\n",
    "views = df[df['action'] == 'view'].groupby('group')['id'].nunique()\n",
    "clicks = df[df['action'] == 'click'].groupby('group')['id'].nunique()\n",
    "\n",
    "# Prepare data for z-test\n",
    "successes = [clicks['control'], clicks['experiment']]\n",
    "nobs = [views['control'], views['experiment']]\n",
    "\n",
    "# Run two-proportion z-test\n",
    "z_stat, p_val = proportions_ztest(successes, nobs)\n",
    "print(f\"z-statistic: {z_stat:.4f}\")\n",
    "print(f\"p-value: {p_val:.4f}\")\n",
    "\n",
    "if p_val < 0.05:\n",
    "    print(\"Statistically significant difference between groups.\")\n",
    "else:\n",
    "    print(\"No statistically significant difference between groups.\")"
   ]
  },
  {
   "attachments": {},
   "cell_type": "markdown",
   "metadata": {},
   "source": [
    "## Verifying Results\n",
    "\n",
    "One sensible formulation of the data to answer the hypothesis test above would be to create a binary variable representing each individual in the experiment and control group. This binary variable would represent whether or not that individual clicked on the homepage; 1 for they did and 0 if they did not. \n",
    "\n",
    "The variance for the number of successes in a sample of a binomial variable with n observations is given by:\n",
    "\n",
    "## $n\\bullet p (1-p)$\n",
    "\n",
    "Given this, perform 3 steps to verify the results of your statistical test:\n",
    "1. Calculate the expected number of clicks for the experiment group, if it had the same click-through rate as that of the control group. \n",
    "2. Calculate the number of standard deviations that the actual number of clicks was from this estimate. \n",
    "3. Finally, calculate a p-value using the normal distribution based on this z-score."
   ]
  },
  {
   "attachments": {},
   "cell_type": "markdown",
   "metadata": {},
   "source": [
    "### Step 1:\n",
    "Calculate the expected number of clicks for the experiment group, if it had the same click-through rate as that of the control group. "
   ]
  },
  {
   "cell_type": "code",
   "execution_count": 10,
   "metadata": {},
   "outputs": [
    {
     "name": "stdout",
     "output_type": "stream",
     "text": [
      "Control group CTR: 0.2797\n",
      "Expected number of clicks in experiment group (if same CTR as control): 838.02\n"
     ]
    }
   ],
   "source": [
    "#Your code here\n",
    "\n",
    "# Control group click-through rate\n",
    "ctr_control = clicks['control'] / views['control']\n",
    "\n",
    "# Expected number of clicks in experiment group if it had control's CTR\n",
    "expected_clicks_exp = ctr_control * views['experiment']\n",
    "\n",
    "print(f\"Control group CTR: {ctr_control:.4f}\")\n",
    "print(f\"Expected number of clicks in experiment group (if same CTR as control): {expected_clicks_exp:.2f}\")"
   ]
  },
  {
   "attachments": {},
   "cell_type": "markdown",
   "metadata": {},
   "source": [
    "### Step 2:\n",
    "Calculate the number of standard deviations that the actual number of clicks was from this estimate."
   ]
  },
  {
   "cell_type": "code",
   "execution_count": 12,
   "metadata": {},
   "outputs": [
    {
     "name": "stdout",
     "output_type": "stream",
     "text": [
      "Actual clicks in experiment group: 928\n",
      "Standard deviation: 24.57\n",
      "z-score: 3.6625\n"
     ]
    }
   ],
   "source": [
    "#Your code here\n",
    "\n",
    "# Actual number of clicks in experiment group\n",
    "actual_clicks_exp = clicks['experiment']\n",
    "\n",
    "# Variance and standard deviation for binomial\n",
    "variance = views['experiment'] * ctr_control * (1 - ctr_control)\n",
    "std_dev = np.sqrt(variance)\n",
    "\n",
    "# z-score calculation\n",
    "z = (actual_clicks_exp - expected_clicks_exp) / std_dev\n",
    "\n",
    "print(f\"Actual clicks in experiment group: {actual_clicks_exp}\")\n",
    "print(f\"Standard deviation: {std_dev:.2f}\")\n",
    "print(f\"z-score: {z:.4f}\")"
   ]
  },
  {
   "attachments": {},
   "cell_type": "markdown",
   "metadata": {},
   "source": [
    "### Step 3: \n",
    "Finally, calculate a p-value using the normal distribution based on this z-score."
   ]
  },
  {
   "cell_type": "code",
   "execution_count": 14,
   "metadata": {},
   "outputs": [
    {
     "name": "stdout",
     "output_type": "stream",
     "text": [
      "p-value: 0.0002\n"
     ]
    }
   ],
   "source": [
    "#Your code here\n",
    "# Calculate two-tailed p-value from z-score\n",
    "p_value = 2 * (1 - norm.cdf(abs(z)))\n",
    "print(f\"p-value: {p_value:.4f}\")"
   ]
  },
  {
   "attachments": {},
   "cell_type": "markdown",
   "metadata": {},
   "source": [
    "### Analysis:\n",
    "\n",
    "Does this result roughly match that of the previous statistical test?\n",
    "\n",
    "> Comment: **Yes, this result matches the previous statistical test. Both approaches yield a very small p-value, indicating a statistically significant difference between the control and experiment groups. This confirms that the observed difference in click-through rates is unlikely to be due to random chance.**"
   ]
  },
  {
   "attachments": {},
   "cell_type": "markdown",
   "metadata": {},
   "source": [
    "## Summary\n",
    "\n",
    "In this lab, you continued to get more practice designing and conducting AB tests. This required additional work preprocessing and formulating the initial problem in a suitable manner. Additionally, you also saw how to verify results, strengthening your knowledge of binomial variables, and reviewing initial statistical concepts of the central limit theorem, standard deviation, z-scores, and their accompanying p-values."
   ]
  }
 ],
 "metadata": {
  "kernelspec": {
   "display_name": "learn-env",
   "language": "python",
   "name": "python3"
  },
  "language_info": {
   "codemirror_mode": {
    "name": "ipython",
    "version": 3
   },
   "file_extension": ".py",
   "mimetype": "text/x-python",
   "name": "python",
   "nbconvert_exporter": "python",
   "pygments_lexer": "ipython3",
   "version": "3.8.5"
  }
 },
 "nbformat": 4,
 "nbformat_minor": 2
}
